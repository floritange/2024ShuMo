{
 "cells": [
  {
   "cell_type": "code",
   "execution_count": 4,
   "metadata": {},
   "outputs": [
    {
     "name": "stdout",
     "output_type": "stream",
     "text": [
      "test_set_1_2ap.csv\n",
      "test_set_1_3ap.csv\n",
      "test_set_2_2ap.csv\n",
      "test_set_2_3ap.csv\n"
     ]
    }
   ],
   "source": [
    "import pandas as pd\n",
    "import matplotlib.pyplot as plt\n",
    "from sklearn.preprocessing import LabelEncoder, MinMaxScaler\n",
    "import os\n",
    "import numpy as np\n",
    "import ast\n",
    "from sklearn.model_selection import train_test_split\n",
    "from sklearn.linear_model import LinearRegression\n",
    "from sklearn.metrics import mean_squared_error, accuracy_score, classification_report\n",
    "import xgboost as xgb\n",
    "from sklearn.ensemble import RandomForestClassifier\n",
    "from sklearn.svm import SVR\n",
    "from sklearn.neural_network import MLPRegressor\n",
    "\n",
    "\n",
    "def get_files_by_keywords(directory, keywords):\n",
    "    # 遍历指定文件夹，根据关键字数组提取文件。\n",
    "    matched_files = []\n",
    "    for filename in os.listdir(directory):\n",
    "        if all(keyword in filename for keyword in keywords):\n",
    "            matched_files.append(filename)\n",
    "    return matched_files\n",
    "\n",
    "\n",
    "def scaler_data(data_to_normalize, columns_to_normalize=[\"eirp\", \"seq_time\"]):\n",
    "    # 归一化数值列\n",
    "    scaler = MinMaxScaler()\n",
    "    data_scaled = data_to_normalize.copy()\n",
    "    for column in columns_to_normalize:\n",
    "        data_scaled[column] = data_scaled[column].astype(float)\n",
    "    data_scaled.loc[:, columns_to_normalize] = scaler.fit_transform(data_scaled.loc[:, columns_to_normalize])\n",
    "    return data_scaled\n",
    "\n",
    "\n",
    "def process_array_string(array_string):\n",
    "    # 去掉最大值、最小值并计算平均值\n",
    "    # 如果输入是单个值，则直接返回\n",
    "    if isinstance(array_string, (int, float)):\n",
    "        return array_string\n",
    "    # 将字符串转换为列表\n",
    "    values = ast.literal_eval(array_string)\n",
    "    # 如果列表长度大于2，去掉最大值和最小值\n",
    "    if len(values) > 2:\n",
    "        values.remove(max(values))\n",
    "        values.remove(min(values))\n",
    "    mean_value = np.mean(values)\n",
    "    return mean_value\n",
    "\n",
    "\n",
    "eirp_threshold = pd.read_excel(\"/Users/daylight/Desktop/macos/1Code/Competition/2024ShuMo/data/test_eirp值临界点统计.xlsx\")\n",
    "\n",
    "##### 修改这里 #####\n",
    "project_root = \"/Users/daylight/Desktop/macos/1Code/Competition/2024ShuMo\"\n",
    "data_dir = project_root + \"/data/results/question1\"\n",
    "data_addcolumn_dir = project_root + \"/data/results/question1_add_column\"\n",
    "os.makedirs(data_addcolumn_dir, exist_ok=True)\n",
    "for index, row in eirp_threshold.iterrows():\n",
    "    set_id_value = str(row[\"set_id\"])\n",
    "    ap_num_value = str(row[\"ap_num\"])\n",
    "    predict_seq_time_value = row[\"predict seq_time threshold\"]\n",
    "\n",
    "    data_name = get_files_by_keywords(data_dir, [\"test\", set_id_value, ap_num_value])[0]\n",
    "    data_path = data_dir + f\"/{data_name}\"\n",
    "    data_df = pd.read_csv(data_path)\n",
    "    # 添加 eirp_threshold 列，首先给出 False 默认值\n",
    "    data_df[\"add_change\"] = 0\n",
    "    data_df.loc[(data_df[\"predict seq_time\"] >= predict_seq_time_value), \"add_change\"] = 1\n",
    "\n",
    "    data_df.to_csv(data_addcolumn_dir + f\"/{data_name}\", index=False)"
   ]
  }
 ],
 "metadata": {
  "kernelspec": {
   "display_name": "tangou111",
   "language": "python",
   "name": "python3"
  },
  "language_info": {
   "codemirror_mode": {
    "name": "ipython",
    "version": 3
   },
   "file_extension": ".py",
   "mimetype": "text/x-python",
   "name": "python",
   "nbconvert_exporter": "python",
   "pygments_lexer": "ipython3",
   "version": "3.11.9"
  }
 },
 "nbformat": 4,
 "nbformat_minor": 2
}
